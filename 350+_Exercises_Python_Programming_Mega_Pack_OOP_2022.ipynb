{
  "nbformat": 4,
  "nbformat_minor": 0,
  "metadata": {
    "colab": {
      "name": "350+ Exercises - Python Programming Mega Pack - OOP - 2022.ipynb",
      "provenance": [],
      "authorship_tag": "ABX9TyN7/vYeSDYGLsIj3W48d1zs",
      "include_colab_link": true
    },
    "kernelspec": {
      "name": "python3",
      "display_name": "Python 3"
    },
    "language_info": {
      "name": "python"
    }
  },
  "cells": [
    {
      "cell_type": "markdown",
      "metadata": {
        "id": "view-in-github",
        "colab_type": "text"
      },
      "source": [
        "<a href=\"https://colab.research.google.com/github/nachopodesta/350-Exercises-Python-Programming/blob/main/350%2B_Exercises_Python_Programming_Mega_Pack_OOP_2022.ipynb\" target=\"_parent\"><img src=\"https://colab.research.google.com/assets/colab-badge.svg\" alt=\"Open In Colab\"/></a>"
      ]
    },
    {
      "cell_type": "code",
      "execution_count": null,
      "metadata": {
        "id": "yBQV--NtGHSo"
      },
      "outputs": [],
      "source": [
        "import sys"
      ]
    },
    {
      "cell_type": "code",
      "source": [
        "print(sys.version.split()[0])"
      ],
      "metadata": {
        "colab": {
          "base_uri": "https://localhost:8080/"
        },
        "id": "q9Z5IR-0GWa8",
        "outputId": "3cb68a61-3928-4ca3-9dd7-a5bf605e94a2"
      },
      "execution_count": null,
      "outputs": [
        {
          "output_type": "stream",
          "name": "stdout",
          "text": [
            "3.7.13\n"
          ]
        }
      ]
    },
    {
      "cell_type": "code",
      "source": [
        "age = 20\n",
        "print(f'I am {age} years old.')"
      ],
      "metadata": {
        "colab": {
          "base_uri": "https://localhost:8080/"
        },
        "id": "z-wlYc2pHMDF",
        "outputId": "69781dad-1b39-4f59-bcbf-a2c0eae8438f"
      },
      "execution_count": null,
      "outputs": [
        {
          "output_type": "stream",
          "name": "stdout",
          "text": [
            "I am 20 years old.\n"
          ]
        }
      ]
    },
    {
      "cell_type": "code",
      "source": [
        "leng = 'Python'\n",
        "ver = '3.8'\n",
        "\n",
        "print(f'I am learning {leng} version {ver}')"
      ],
      "metadata": {
        "colab": {
          "base_uri": "https://localhost:8080/"
        },
        "id": "_hIQLkegHYM3",
        "outputId": "b660c143-af84-49b7-dfd9-4732f4eac530"
      },
      "execution_count": null,
      "outputs": [
        {
          "output_type": "stream",
          "name": "stdout",
          "text": [
            "I am learning Python version 3.8\n"
          ]
        }
      ]
    },
    {
      "cell_type": "code",
      "source": [
        "price = 199.99\n",
        "print('This costs', price)"
      ],
      "metadata": {
        "colab": {
          "base_uri": "https://localhost:8080/"
        },
        "id": "WdP2XsYKHp3w",
        "outputId": "9b70a418-d8df-4492-c043-07144aecd005"
      },
      "execution_count": null,
      "outputs": [
        {
          "output_type": "stream",
          "name": "stdout",
          "text": [
            "This costs 199.99\n"
          ]
        }
      ]
    },
    {
      "cell_type": "code",
      "source": [
        "price = 69.99\n",
        "print(f'This costs {price}')"
      ],
      "metadata": {
        "colab": {
          "base_uri": "https://localhost:8080/"
        },
        "id": "jK6CX_FGH3Ni",
        "outputId": "3b300e35-bc33-4b67-884e-1ecf010ec598"
      },
      "execution_count": null,
      "outputs": [
        {
          "output_type": "stream",
          "name": "stdout",
          "text": [
            "This costs 69.99\n"
          ]
        }
      ]
    },
    {
      "cell_type": "code",
      "source": [
        "price = float(34.99)\n",
        "weight = int(20)\n",
        "\n",
        "print(f'Price: ${price}. Weight: {weight} lbs.')"
      ],
      "metadata": {
        "colab": {
          "base_uri": "https://localhost:8080/"
        },
        "id": "P1MAHcXrH3P_",
        "outputId": "3e5bdef7-3d79-4846-8e23-cbc20265a319"
      },
      "execution_count": null,
      "outputs": [
        {
          "output_type": "stream",
          "name": "stdout",
          "text": [
            "Price: $34.99. Weight: 20 lbs.\n"
          ]
        }
      ]
    },
    {
      "cell_type": "code",
      "source": [
        "pi = 3.1415926535\n",
        "print(f'Pi: {pi:.2f}')"
      ],
      "metadata": {
        "colab": {
          "base_uri": "https://localhost:8080/"
        },
        "id": "EhrevCmCH3SX",
        "outputId": "47c041a4-1d94-4bda-c094-517152043e7b"
      },
      "execution_count": null,
      "outputs": [
        {
          "output_type": "stream",
          "name": "stdout",
          "text": [
            "Pi: 3.14\n"
          ]
        }
      ]
    },
    {
      "cell_type": "code",
      "source": [
        "print('----------------------------------------\\nVERSION: 1.0.1\\n----------------------------------------')"
      ],
      "metadata": {
        "colab": {
          "base_uri": "https://localhost:8080/"
        },
        "id": "Q-fzZ6AMH3VE",
        "outputId": "3e07d3e4-7312-4d11-f75a-fa2611840587"
      },
      "execution_count": null,
      "outputs": [
        {
          "output_type": "stream",
          "name": "stdout",
          "text": [
            "----------------------------------------\n",
            "VERSION: 1.0.1\n",
            "----------------------------------------\n"
          ]
        }
      ]
    },
    {
      "cell_type": "code",
      "source": [
        "print('-'*40)\n",
        "print('VERSION: 1.0.1')\n",
        "print('-'*40)"
      ],
      "metadata": {
        "id": "h3v8e4shH3Xb",
        "colab": {
          "base_uri": "https://localhost:8080/"
        },
        "outputId": "a32b85f6-aba2-4f77-d1f4-9fd4fc3b5178"
      },
      "execution_count": null,
      "outputs": [
        {
          "output_type": "stream",
          "name": "stdout",
          "text": [
            "----------------------------------------\n",
            "VERSION: 1.0.1\n",
            "----------------------------------------\n"
          ]
        }
      ]
    },
    {
      "cell_type": "code",
      "source": [
        "print('='*40)\n",
        "print('author: johnsmith@sample.com')\n",
        "print('date: 01-01-2021')\n",
        "print('='*40)"
      ],
      "metadata": {
        "id": "r7NwOXDdH3Zx",
        "colab": {
          "base_uri": "https://localhost:8080/"
        },
        "outputId": "b4ba1cc6-4a30-4cd7-abba-264e2b6acab4"
      },
      "execution_count": null,
      "outputs": [
        {
          "output_type": "stream",
          "name": "stdout",
          "text": [
            "========================================\n",
            "author: johnsmith@sample.com\n",
            "date: 01-01-2021\n",
            "========================================\n"
          ]
        }
      ]
    },
    {
      "cell_type": "code",
      "source": [
        "print('summer', 'time', 'holiday', sep='#')"
      ],
      "metadata": {
        "colab": {
          "base_uri": "https://localhost:8080/"
        },
        "id": "wqU-IUpEO0X9",
        "outputId": "24a4bc75-d6d8-4a0a-b5ef-7d53eb49a66c"
      },
      "execution_count": null,
      "outputs": [
        {
          "output_type": "stream",
          "name": "stdout",
          "text": [
            "summer#time#holiday\n"
          ]
        }
      ]
    },
    {
      "cell_type": "markdown",
      "source": [
        "# Section 5: Calculations in Python"
      ],
      "metadata": {
        "id": "L6Wx5mNuPNSU"
      }
    },
    {
      "cell_type": "code",
      "source": [
        "r = 5\n",
        "pi = 3.14\n",
        "area = pi*r**2\n",
        "\n",
        "print(f'Area: {area:.1f}')"
      ],
      "metadata": {
        "colab": {
          "base_uri": "https://localhost:8080/"
        },
        "id": "ovaOpt0bO0ag",
        "outputId": "39e350d6-1ede-4ec9-aa54-40b1dc7624fc"
      },
      "execution_count": null,
      "outputs": [
        {
          "output_type": "stream",
          "name": "stdout",
          "text": [
            "Area: 78.5\n"
          ]
        }
      ]
    },
    {
      "cell_type": "code",
      "source": [
        "#((P*(1+i)^n) - P)\n",
        "\n",
        "pv = 1000\n",
        "r = 0.03\n",
        "n = 5\n",
        "\n",
        "fv = pv * (1+r) ** n\n",
        "\n",
        "print(f'The future value of the investement: {fv:.2f} USD')"
      ],
      "metadata": {
        "colab": {
          "base_uri": "https://localhost:8080/"
        },
        "id": "9l8sJYa2QEsb",
        "outputId": "c359be4d-8a24-4ac0-fbae-c76c05485e14"
      },
      "execution_count": null,
      "outputs": [
        {
          "output_type": "stream",
          "name": "stdout",
          "text": [
            "The future value of the investement: 1159.27 USD\n"
          ]
        }
      ]
    },
    {
      "cell_type": "code",
      "source": [
        "#3x2 - 4x + 1 = 0\n",
        "\n",
        "a = 3\n",
        "b = -4\n",
        "c = 1\n",
        "delta = b ** 2 - 4 * a * c\n",
        "print(f'Delta: {delta}')"
      ],
      "metadata": {
        "colab": {
          "base_uri": "https://localhost:8080/"
        },
        "id": "EeM8b8BaP8cu",
        "outputId": "1fa97bde-7bae-4d6b-cb0d-21f8a5360d9d"
      },
      "execution_count": null,
      "outputs": [
        {
          "output_type": "stream",
          "name": "stdout",
          "text": [
            "Delta: 4\n"
          ]
        }
      ]
    },
    {
      "cell_type": "code",
      "source": [
        "a1 = 14\n",
        "a10 = 50\n",
        "n = 10\n",
        "s10 = ((a1 + a10) / 2) * n\n",
        "print(f'The sum of the first 10 elements in a sequence: {s10}')"
      ],
      "metadata": {
        "colab": {
          "base_uri": "https://localhost:8080/"
        },
        "id": "qUhndvcdO0dT",
        "outputId": "44c3514b-0568-489a-ab7a-9b4fbb71062e"
      },
      "execution_count": null,
      "outputs": [
        {
          "output_type": "stream",
          "name": "stdout",
          "text": [
            "The sum of the first 10 elements in a sequence: 320.0\n"
          ]
        }
      ]
    },
    {
      "cell_type": "code",
      "source": [
        "a1 = 8\n",
        "a2 = 8 * 2\n",
        "n = 6\n",
        "q = a2/a1\n",
        "s6 = a1 * ((1-q**n)/(1-q))\n",
        "\n",
        "print(f'The sum of the first {n} elements of the sequence is: {s6}')"
      ],
      "metadata": {
        "colab": {
          "base_uri": "https://localhost:8080/"
        },
        "id": "QmUy7j9YO0fe",
        "outputId": "d32c7708-999e-463b-906b-e4b364f37bdb"
      },
      "execution_count": null,
      "outputs": [
        {
          "output_type": "stream",
          "name": "stdout",
          "text": [
            "The sum of the first 6 elements of the sequence is: 504.0\n"
          ]
        }
      ]
    },
    {
      "cell_type": "code",
      "source": [
        "a = 1\n",
        "b = 5\n",
        "c = 4\n",
        "sum = -b / a\n",
        "product = c / a\n",
        "print(f'x1 + x2 = {sum}\\nx1x2 = {product}')"
      ],
      "metadata": {
        "colab": {
          "base_uri": "https://localhost:8080/"
        },
        "id": "GgsCwHEiO0iG",
        "outputId": "cac68233-8571-43b7-850f-a5124a1de02d"
      },
      "execution_count": null,
      "outputs": [
        {
          "output_type": "stream",
          "name": "stdout",
          "text": [
            "x1 + x2 = -5.0\n",
            "x1x2 = 4.0\n"
          ]
        }
      ]
    },
    {
      "cell_type": "code",
      "source": [
        "a1 = 2\n",
        "a2 = 4\n",
        "b1 = -4\n",
        "b2 = 6\n",
        "s1 = (a1 + b1) / 2\n",
        "s2 = (a2 + b2) / 2\n",
        "print(f'The middle point: ({s1}, {s2})')"
      ],
      "metadata": {
        "colab": {
          "base_uri": "https://localhost:8080/"
        },
        "id": "EhxoW-mtO0kc",
        "outputId": "59b0f0cf-21c2-4651-de43-35180d234539"
      },
      "execution_count": null,
      "outputs": [
        {
          "output_type": "stream",
          "name": "stdout",
          "text": [
            "The middle point: (-1.0, 5.0)\n"
          ]
        }
      ]
    },
    {
      "cell_type": "code",
      "source": [
        "a1 = 3\n",
        "a2 = 2\n",
        "b1 = -1\n",
        "b2 = -1\n",
        "distance = ((b1 - a1) ** 2 + (b2 - a2) ** 2)**(1/2)\n",
        "print(f'The distance between points A and B: {distance}')"
      ],
      "metadata": {
        "colab": {
          "base_uri": "https://localhost:8080/"
        },
        "id": "pVrgvjz-O0m0",
        "outputId": "cc933f70-23bb-4dfe-9a1c-48b906103538"
      },
      "execution_count": null,
      "outputs": [
        {
          "output_type": "stream",
          "name": "stdout",
          "text": [
            "The distance between points A and B: 5.0\n"
          ]
        }
      ]
    },
    {
      "cell_type": "code",
      "source": [
        "a = 1\n",
        "b = 5\n",
        "c = 4\n",
        "delta = b ** 2 - 4 * a * c\n",
        "delta_sqrt = delta ** (1/2)\n",
        "x1 = (-b - delta_sqrt) / (2 * a)\n",
        "x2 = (-b + delta_sqrt) / (2 * a)\n",
        "print(f'x1 = {x1}')\n",
        "print(f'x2 = {x2}')"
      ],
      "metadata": {
        "colab": {
          "base_uri": "https://localhost:8080/"
        },
        "id": "iWiF76PqO0pK",
        "outputId": "d88ea647-18c8-46f9-95c5-fdb9049f54a1"
      },
      "execution_count": null,
      "outputs": [
        {
          "output_type": "stream",
          "name": "stdout",
          "text": [
            "x1 = -4.0\n",
            "x2 = -1.0\n"
          ]
        }
      ]
    },
    {
      "cell_type": "code",
      "source": [
        "x1, x2, x3, x4 = 4, 3, 4.5, 5\n",
        "geo = (x1 * x2 * x3 * x4)**(1/4)\n",
        "print(f'Geometric average of the given numbers: {geo:.2f}')"
      ],
      "metadata": {
        "colab": {
          "base_uri": "https://localhost:8080/"
        },
        "id": "cPmkzuSzSPFY",
        "outputId": "e914ae73-1b24-4977-cc8b-ee00a5245a7e"
      },
      "execution_count": null,
      "outputs": [
        {
          "output_type": "stream",
          "name": "stdout",
          "text": [
            "Geometric average of the given numbers: 4.05\n"
          ]
        }
      ]
    },
    {
      "cell_type": "code",
      "source": [
        "a1 = 1\n",
        "a2 = 1/2\n",
        "q = a2 / a1\n",
        "S = a1 / (1 - q)\n",
        "print(f'The sum of the sequence: {S}')"
      ],
      "metadata": {
        "colab": {
          "base_uri": "https://localhost:8080/"
        },
        "id": "6GguALXfSPHx",
        "outputId": "2d4c5bde-6df4-4234-f305-abef708096db"
      },
      "execution_count": null,
      "outputs": [
        {
          "output_type": "stream",
          "name": "stdout",
          "text": [
            "The sum of the sequence: 2.0\n"
          ]
        }
      ]
    },
    {
      "cell_type": "code",
      "source": [
        "x1, x2, x3 = 10, 11, 9\n",
        "mean = (x1 + x2 + x3) / 3.0\n",
        "var = ((x1 - mean)**2 + (x2 - mean)**2 + (x3 - mean)**2) / 3.0\n",
        "std = var**(1/2)\n",
        "print(f'The standard deviation: {std:.2f}')"
      ],
      "metadata": {
        "colab": {
          "base_uri": "https://localhost:8080/"
        },
        "id": "fRgUXyAbSPKP",
        "outputId": "e895fbfd-d8d2-47c8-9466-f37035aeeb60"
      },
      "execution_count": null,
      "outputs": [
        {
          "output_type": "stream",
          "name": "stdout",
          "text": [
            "The standard deviation: 0.82\n"
          ]
        }
      ]
    },
    {
      "cell_type": "markdown",
      "source": [
        "# Section 6: Slicing"
      ],
      "metadata": {
        "id": "7uL6jZqnSaL2"
      }
    },
    {
      "cell_type": "code",
      "source": [
        "filename = 'view.jpg'\n",
        "print(filename[-3:])"
      ],
      "metadata": {
        "colab": {
          "base_uri": "https://localhost:8080/"
        },
        "id": "0DTjn0e-SPM0",
        "outputId": "85464e95-9632-460c-bd35-007c125b0169"
      },
      "execution_count": null,
      "outputs": [
        {
          "output_type": "stream",
          "name": "stdout",
          "text": [
            "jpg\n"
          ]
        }
      ]
    },
    {
      "cell_type": "code",
      "source": [
        "filename = 'view.jpg'\n",
        "print(filename[5:])"
      ],
      "metadata": {
        "colab": {
          "base_uri": "https://localhost:8080/"
        },
        "id": "NNZmDPjWSPPY",
        "outputId": "5b053c4b-8c30-4450-a818-3bd2bd99ded3"
      },
      "execution_count": null,
      "outputs": [
        {
          "output_type": "stream",
          "name": "stdout",
          "text": [
            "jpg\n"
          ]
        }
      ]
    },
    {
      "cell_type": "code",
      "source": [
        "string = 'PKV-89415-PLN'\n",
        "code = string[:3] + string[-3:]\n",
        "print(code)"
      ],
      "metadata": {
        "colab": {
          "base_uri": "https://localhost:8080/"
        },
        "id": "8Ttjk47HSPRq",
        "outputId": "4feb9926-033e-473f-b44c-a0f6a9ffd8c5"
      },
      "execution_count": null,
      "outputs": [
        {
          "output_type": "stream",
          "name": "stdout",
          "text": [
            "PKVPLN\n"
          ]
        }
      ]
    },
    {
      "cell_type": "code",
      "source": [
        "string = '1 0 0 1 0 1'\n",
        "binary = string[::2]\n",
        "number = int(binary,2)\n",
        "print(f'Number found: {number}')"
      ],
      "metadata": {
        "colab": {
          "base_uri": "https://localhost:8080/"
        },
        "id": "mEuBpHQVSPUU",
        "outputId": "675b1c79-325d-44f7-d920-97f0e8f8ef10"
      },
      "execution_count": null,
      "outputs": [
        {
          "output_type": "stream",
          "name": "stdout",
          "text": [
            "Number found: 37\n"
          ]
        }
      ]
    },
    {
      "cell_type": "code",
      "source": [
        "text = 'Python Course'\n",
        "print(text[::-1])"
      ],
      "metadata": {
        "colab": {
          "base_uri": "https://localhost:8080/"
        },
        "id": "l-IHEZcUSPWq",
        "outputId": "50895662-beb1-4fd6-82df-1105cbcb0a83"
      },
      "execution_count": null,
      "outputs": [
        {
          "output_type": "stream",
          "name": "stdout",
          "text": [
            "esruoC nohtyP\n"
          ]
        }
      ]
    },
    {
      "cell_type": "markdown",
      "source": [
        "# Section 7: Data Types"
      ],
      "metadata": {
        "id": "I9jgyEhcUVwU"
      }
    },
    {
      "cell_type": "code",
      "source": [
        "var1 = ''\n",
        "var2 = ' '\n",
        "var3 = '\\n'\n",
        "\n",
        "print(type(var1))\n",
        "print(type(var2))\n",
        "print(type(var3))"
      ],
      "metadata": {
        "colab": {
          "base_uri": "https://localhost:8080/"
        },
        "id": "87FDI2-HO0rh",
        "outputId": "ac3a9ba7-f63f-4cbe-b6bf-cadbc637ebf6"
      },
      "execution_count": null,
      "outputs": [
        {
          "output_type": "stream",
          "name": "stdout",
          "text": [
            "<class 'str'>\n",
            "<class 'str'>\n",
            "<class 'str'>\n"
          ]
        }
      ]
    },
    {
      "cell_type": "code",
      "source": [
        "var1 = None\n",
        "var2 = False\n",
        "var3 = 'True'\n",
        "\n",
        "print(type(var1))\n",
        "print(type(var2))\n",
        "print(type(var3))"
      ],
      "metadata": {
        "colab": {
          "base_uri": "https://localhost:8080/"
        },
        "id": "K5xHr33aUYUf",
        "outputId": "677f401b-12fc-4711-95c4-59866dfa6495"
      },
      "execution_count": null,
      "outputs": [
        {
          "output_type": "stream",
          "name": "stdout",
          "text": [
            "<class 'NoneType'>\n",
            "<class 'bool'>\n",
            "<class 'str'>\n"
          ]
        }
      ]
    },
    {
      "cell_type": "code",
      "source": [
        "flag = False\n",
        "print(type(flag))"
      ],
      "metadata": {
        "colab": {
          "base_uri": "https://localhost:8080/"
        },
        "id": "Seg3OU7iUYW0",
        "outputId": "67485203-4fa5-4844-e2fc-c2718867e2b9"
      },
      "execution_count": null,
      "outputs": [
        {
          "output_type": "stream",
          "name": "stdout",
          "text": [
            "<class 'bool'>\n"
          ]
        }
      ]
    },
    {
      "cell_type": "code",
      "source": [
        "flag = False\n",
        "print(isinstance(flag, bool))"
      ],
      "metadata": {
        "colab": {
          "base_uri": "https://localhost:8080/"
        },
        "id": "k2mrqQIdUYZU",
        "outputId": "d10fa7cd-c8f9-4435-88aa-c944af10bd45"
      },
      "execution_count": null,
      "outputs": [
        {
          "output_type": "stream",
          "name": "stdout",
          "text": [
            "True\n"
          ]
        }
      ]
    },
    {
      "cell_type": "markdown",
      "source": [
        "# Seccion 8: Strings"
      ],
      "metadata": {
        "id": "P4Lefer-YFyX"
      }
    },
    {
      "cell_type": "code",
      "source": [
        "text = 'python is a popular programming language.'\n",
        "print(text.capitalize())"
      ],
      "metadata": {
        "colab": {
          "base_uri": "https://localhost:8080/"
        },
        "id": "wVgqZOUjUYb2",
        "outputId": "078e90f4-d8d5-4592-da89-ad48ed0484f5"
      },
      "execution_count": null,
      "outputs": [
        {
          "output_type": "stream",
          "name": "stdout",
          "text": [
            "Python is a popular programming language.\n"
          ]
        }
      ]
    },
    {
      "cell_type": "code",
      "source": [
        "text = 'python is a popular programming language.'\n",
        "print(f\"Number of occurrences: {text.count('p')}\")"
      ],
      "metadata": {
        "colab": {
          "base_uri": "https://localhost:8080/"
        },
        "id": "aAfN2ER2UYeU",
        "outputId": "ae2c7e14-a991-4a5b-91e6-435c9bc14149"
      },
      "execution_count": null,
      "outputs": [
        {
          "output_type": "stream",
          "name": "stdout",
          "text": [
            "Number of occurrences: 4\n"
          ]
        }
      ]
    },
    {
      "cell_type": "code",
      "source": [
        "code1 = 'FVNISJND-XX-2020'\n",
        "code2 = 'FVNISJND-XY-2019'\n",
        "\n",
        "print(f\"code1: {code1.endswith('2020')}\")\n",
        "print(f\"code2: {code2.endswith('2020')}\")"
      ],
      "metadata": {
        "colab": {
          "base_uri": "https://localhost:8080/"
        },
        "id": "WR3VzAdGUYgq",
        "outputId": "3cf75ec4-1365-4a07-f1e1-cce6fca6063e"
      },
      "execution_count": null,
      "outputs": [
        {
          "output_type": "stream",
          "name": "stdout",
          "text": [
            "code1: True\n",
            "code2: False\n"
          ]
        }
      ]
    },
    {
      "cell_type": "code",
      "source": [
        "path1 = 'youtube.com/watch?v=5EhRztVxums'\n",
        "path2 = 'google.com/search?q=car'\n",
        "print(f\"path1: {path1.startswith('youtube')}\")\n",
        "print(f\"path2: {path2.startswith('youtube')}\")"
      ],
      "metadata": {
        "colab": {
          "base_uri": "https://localhost:8080/"
        },
        "id": "yf8K_-ATUYjY",
        "outputId": "13d44b0e-7f55-4639-d10a-4a057e5486aa"
      },
      "execution_count": null,
      "outputs": [
        {
          "output_type": "stream",
          "name": "stdout",
          "text": [
            "path1: True\n",
            "path2: False\n"
          ]
        }
      ]
    },
    {
      "cell_type": "code",
      "source": [
        "path1 = (\n",
        "    'https://e-smartdata.teachable.com/p/'\n",
        "    'sciezka-data-scientist-machine-learning-engineer'\n",
        ")\n",
        "path2 = (\n",
        "    'https://e-smartdata.teachable.com/p/'\n",
        "    'sciezka-data-scientist-deep-learning-engineer'\n",
        ")\n",
        "path3 = (\n",
        "    'https://e-smartdata.teachable.com/p/'\n",
        "    'sciezka-bi-analyst-data-analyst'\n",
        ")\n",
        "print(f\"path1: {path1.find('scientist')}\")\n",
        "print(f\"path2: {path2.find('scientist')}\")\n",
        "print(f\"path3: {path3.find('scientist')}\")"
      ],
      "metadata": {
        "colab": {
          "base_uri": "https://localhost:8080/"
        },
        "id": "E1_yDAKtUYlp",
        "outputId": "cc827c3a-8974-4c68-8232-5077ffe8b0cf"
      },
      "execution_count": null,
      "outputs": [
        {
          "output_type": "stream",
          "name": "stdout",
          "text": [
            "path1: 49\n",
            "path2: 49\n",
            "path3: -1\n"
          ]
        }
      ]
    },
    {
      "cell_type": "code",
      "source": [
        "code1 = 'FVNISJND-20'\n",
        "code2 = 'FVNISJND20'\n",
        "print(f'code1: {code1.isalnum()}')\n",
        "print(f'code2: {code2.isalnum()}')"
      ],
      "metadata": {
        "colab": {
          "base_uri": "https://localhost:8080/"
        },
        "id": "TfUj_007cr86",
        "outputId": "fa06229b-4edd-4a43-9901-cd4e753633e6"
      },
      "execution_count": null,
      "outputs": [
        {
          "output_type": "stream",
          "name": "stdout",
          "text": [
            "code1: False\n",
            "code2: True\n"
          ]
        }
      ]
    },
    {
      "cell_type": "code",
      "source": [
        "text = 'Google Colab'\n",
        "print(text.lower())"
      ],
      "metadata": {
        "colab": {
          "base_uri": "https://localhost:8080/"
        },
        "id": "QeZWiJqEUYn7",
        "outputId": "0a3dfda7-08e5-40af-fee4-edf46097b7ec"
      },
      "execution_count": null,
      "outputs": [
        {
          "output_type": "stream",
          "name": "stdout",
          "text": [
            "google colab\n"
          ]
        }
      ]
    },
    {
      "cell_type": "code",
      "source": [
        "text = 'Google Colab'\n",
        "print(text.upper())"
      ],
      "metadata": {
        "id": "RWDGPty3c6pD",
        "outputId": "c7e8af54-e648-4769-a0cb-2e5aace91309",
        "colab": {
          "base_uri": "https://localhost:8080/"
        }
      },
      "execution_count": null,
      "outputs": [
        {
          "output_type": "stream",
          "name": "stdout",
          "text": [
            "GOOGLE COLAB\n"
          ]
        }
      ]
    },
    {
      "cell_type": "code",
      "source": [
        "text = '  Google Colab     '\n",
        "print(text.strip())"
      ],
      "metadata": {
        "id": "sHYwtEhwc6rn",
        "colab": {
          "base_uri": "https://localhost:8080/"
        },
        "outputId": "bb7e5eb5-989d-4916-9ca9-e45860b4292c"
      },
      "execution_count": null,
      "outputs": [
        {
          "output_type": "stream",
          "name": "stdout",
          "text": [
            "Google Colab\n"
          ]
        }
      ]
    },
    {
      "cell_type": "code",
      "source": [
        "code = 'FVNISJND-XX'\n",
        "print(code.replace('-', ' '))"
      ],
      "metadata": {
        "id": "bp_S_golc6t0",
        "colab": {
          "base_uri": "https://localhost:8080/"
        },
        "outputId": "30870a59-2f6f-44cb-ded1-1244a8d7f770"
      },
      "execution_count": null,
      "outputs": [
        {
          "output_type": "stream",
          "name": "stdout",
          "text": [
            "FVNISJND XX\n"
          ]
        }
      ]
    },
    {
      "cell_type": "code",
      "source": [
        "text = '340-23-245-235'\n",
        "print(text.replace('-',''))"
      ],
      "metadata": {
        "id": "y7BRf9XNc6wS",
        "colab": {
          "base_uri": "https://localhost:8080/"
        },
        "outputId": "7c4a2d1a-55ce-4a9c-e703-863964341648"
      },
      "execution_count": null,
      "outputs": [
        {
          "output_type": "stream",
          "name": "stdout",
          "text": [
            "34023245235\n"
          ]
        }
      ]
    },
    {
      "cell_type": "code",
      "source": [
        "text = 'Open,High,Low,Close'\n",
        "print(text.split(\",\"))"
      ],
      "metadata": {
        "id": "9wWRVOaZc6y7",
        "colab": {
          "base_uri": "https://localhost:8080/"
        },
        "outputId": "87a46b47-e302-4c9e-c9dc-18d35f4dd1a1"
      },
      "execution_count": 1,
      "outputs": [
        {
          "output_type": "stream",
          "name": "stdout",
          "text": [
            "['Open', 'High', 'Low', 'Close']\n"
          ]
        }
      ]
    },
    {
      "cell_type": "code",
      "source": [
        "text = \"\"\"Python is a general-purpose language.\n",
        "Python is popular.\"\"\"\n",
        "print(text.splitlines())"
      ],
      "metadata": {
        "id": "-wMK37eec609",
        "colab": {
          "base_uri": "https://localhost:8080/"
        },
        "outputId": "ca990599-69fa-4bc2-a5e5-82d050e2f14a"
      },
      "execution_count": 4,
      "outputs": [
        {
          "output_type": "stream",
          "name": "stdout",
          "text": [
            "['Python is a general-purpose language.', 'Python is popular.']\n"
          ]
        }
      ]
    },
    {
      "cell_type": "code",
      "source": [
        "num = 34\n",
        "print(str(num).zfill(6))"
      ],
      "metadata": {
        "colab": {
          "base_uri": "https://localhost:8080/"
        },
        "id": "3MWQ6fpzuF84",
        "outputId": "24718216-7d30-40fb-af5b-4f96d2880a68"
      },
      "execution_count": 5,
      "outputs": [
        {
          "output_type": "stream",
          "name": "stdout",
          "text": [
            "000034\n"
          ]
        }
      ]
    },
    {
      "cell_type": "code",
      "source": [
        "url = 'https://e-smartdata.teachable.com/p/sciezka-data-scientist-machine-learning-engineer'\n",
        "\n",
        "name = url.split('/')[-1]\n",
        "name = name.replace('-',' ')\n",
        "print(name)"
      ],
      "metadata": {
        "colab": {
          "base_uri": "https://localhost:8080/"
        },
        "id": "eekNdM1iuF_c",
        "outputId": "bf90e2bd-e813-43d5-f245-3b73f7e3e191"
      },
      "execution_count": 9,
      "outputs": [
        {
          "output_type": "stream",
          "name": "stdout",
          "text": [
            "sciezka data scientist machine learning engineer\n"
          ]
        }
      ]
    },
    {
      "cell_type": "markdown",
      "source": [
        "# Section 9 Data Structures"
      ],
      "metadata": {
        "id": "YgrYS52muzdT"
      }
    },
    {
      "cell_type": "markdown",
      "source": [
        "# Section 10 Sets"
      ],
      "metadata": {
        "id": "LVgUK1BfvAzE"
      }
    },
    {
      "cell_type": "code",
      "source": [
        "subjects = {'mathematics', 'biology'}\n",
        "subjects.add('english')\n",
        "print(subjects)"
      ],
      "metadata": {
        "colab": {
          "base_uri": "https://localhost:8080/"
        },
        "id": "Qh_DjYSauGB7",
        "outputId": "ee547227-2c90-4f0d-df4a-e1288e32b631"
      },
      "execution_count": 10,
      "outputs": [
        {
          "output_type": "stream",
          "name": "stdout",
          "text": [
            "{'english', 'mathematics', 'biology'}\n"
          ]
        }
      ]
    },
    {
      "cell_type": "markdown",
      "source": [
        "The following text is given:\n",
        "\n",
        "\n",
        "\n",
        "text = 'Programming in python.'\n",
        "\n",
        "\n",
        "Follow the next steps:\n",
        "\n",
        "Change all letters to lowercase.\n",
        "\n",
        "Delete spaces and period.\n",
        "\n",
        "Create a set consisting of all letters in the text and assign to letters variable\n",
        "\n",
        "Using the appropriate method for sets, remove all vowels from letters set:\n",
        "\n",
        "\n",
        "\n",
        "vowels = {'a', 'e', 'i', 'o', 'u'}\n",
        "  \n",
        "\n",
        "      5. Print the number of items in the letters set as shown below.\n",
        "\n",
        "\n",
        "\n",
        "Expected result:\n",
        "\n",
        "\n",
        "\n",
        "Number of items: 8\n"
      ],
      "metadata": {
        "id": "p6KAcFn_w3BJ"
      }
    },
    {
      "cell_type": "code",
      "source": [
        "text = 'Programming in python.'\n",
        "\n",
        "text = text.lower()\n",
        "text = text.replace(' ', '')\n",
        "text = text.replace('.', '')\n",
        "vowels = {'a', 'e', 'i', 'o', 'u'}\n",
        "letters = set(text)\n",
        "\n",
        "consonants = letters.difference(vowels)\n",
        "\n",
        "print(f'Number of items: {len(consonants)}')"
      ],
      "metadata": {
        "colab": {
          "base_uri": "https://localhost:8080/"
        },
        "id": "aF0QCPPkuGET",
        "outputId": "96930291-dcff-421b-9ac5-8b875d105784"
      },
      "execution_count": 21,
      "outputs": [
        {
          "output_type": "stream",
          "name": "stdout",
          "text": [
            "Number of items: 8\n"
          ]
        }
      ]
    },
    {
      "cell_type": "markdown",
      "source": [
        "In mathematics, the symmetric difference of two sets is the set of elements which are in either of the sets, but not in their intersection.\n",
        "\n",
        "Two following sets are given:\n",
        "\n",
        "\n",
        "\n",
        "A = {2, 4, 6, 8}\n",
        "B = {4, 10}\n",
        "\n",
        "\n",
        "Using the appropriate method, extract the symmetrical difference of sets A and B and print the result to the console as shown below.\n",
        "\n",
        "\n",
        "\n",
        "Expected result:\n",
        "\n",
        "\n",
        "\n",
        "Symmetric difference: {2, 6, 8, 10}\n"
      ],
      "metadata": {
        "id": "34CQ3ey3w8Ys"
      }
    },
    {
      "cell_type": "code",
      "source": [
        "A = {2, 4, 6, 8}\n",
        "B = {4, 10}\n",
        "sym_diff = A.symmetric_difference(B)\n",
        "print(f'Symmetric difference: {sym_diff}')"
      ],
      "metadata": {
        "colab": {
          "base_uri": "https://localhost:8080/"
        },
        "id": "cHJ0braeuGGm",
        "outputId": "9679a2a4-60a2-46b2-d6ac-004ac814318c"
      },
      "execution_count": 22,
      "outputs": [
        {
          "output_type": "stream",
          "name": "stdout",
          "text": [
            "Symmetric difference: {2, 6, 8, 10}\n"
          ]
        }
      ]
    },
    {
      "cell_type": "markdown",
      "source": [
        "We have two sets of customer IDs:\n",
        "\n",
        "\n",
        "\n",
        "ad1_id = {'001', '002', '003'}\n",
        "ad2_id = {'002', '003', '007'}\n",
        "\n",
        "\n",
        "Each set stores the id of the customers who made the purchase based on the specific ad. We have two ads. Each customer can use the offer only twice in campaign. Choose the ID of the customers to whom you can send another ad (or ids that only appeared once in both sets).\n",
        "\n",
        "\n",
        "\n",
        "Expected result:\n",
        "\n",
        "\n",
        "\n",
        "Selected ID: { '007', '001'}\n",
        "\n",
        "\n",
        "Note: Remember that the set is an unordered data structure. You may get a different order of items than the expected result. You don't have to worry about it."
      ],
      "metadata": {
        "id": "tpphp-AuxQIu"
      }
    },
    {
      "cell_type": "code",
      "source": [
        "ad1_id = {'001', '002', '003'}\n",
        "ad2_id = {'002', '003', '007'}\n",
        "result = ad1_id.symmetric_difference(ad2_id)\n",
        "print(f'Selected ID: {result}')"
      ],
      "metadata": {
        "colab": {
          "base_uri": "https://localhost:8080/"
        },
        "id": "NBZBBBhTuGI8",
        "outputId": "9e83ea56-9040-46cd-dbfc-97ea022fca8e"
      },
      "execution_count": 23,
      "outputs": [
        {
          "output_type": "stream",
          "name": "stdout",
          "text": [
            "Selected ID: {'007', '001'}\n"
          ]
        }
      ]
    },
    {
      "cell_type": "markdown",
      "source": [
        "Two customer ID sets are given. The first one tells you whether a person clicked on the banner ad. Second, whether the person purchased the product:\n",
        "\n",
        "\n",
        "\n",
        "is_clicked = {'9001', '9002', '9005'}\n",
        "is_bought = {'9002', '9004', '9005'}\n",
        "\n",
        "\n",
        "Return the ID of those customers who clicked on the ad and bought the product.\n",
        "\n",
        "\n",
        "\n",
        "Expected result:\n",
        "\n",
        "\n",
        "\n",
        "Customer ID: { '9002', '9005'}\n",
        "\n",
        "\n",
        "Note: Remember that the set is an unordered data structure. You may get a different order of items than the expected result. You don't have to worry about it.\n",
        "\n"
      ],
      "metadata": {
        "id": "UrUyLe2TxafR"
      }
    },
    {
      "cell_type": "code",
      "source": [
        "is_clicked = {'9001', '9002', '9005'}\n",
        "is_bought = {'9002', '9004', '9005'}\n",
        "id = is_clicked.intersection(is_bought)\n",
        "print(f'Customer ID: {id}')"
      ],
      "metadata": {
        "colab": {
          "base_uri": "https://localhost:8080/"
        },
        "id": "hFQpWG-cxbDS",
        "outputId": "5348556b-7ac5-4eaf-aa06-e1746ead9482"
      },
      "execution_count": 24,
      "outputs": [
        {
          "output_type": "stream",
          "name": "stdout",
          "text": [
            "Customer ID: {'9002', '9005'}\n"
          ]
        }
      ]
    },
    {
      "cell_type": "markdown",
      "source": [
        "# Section 11 Tuples"
      ],
      "metadata": {
        "id": "mxc0msVSyAB4"
      }
    },
    {
      "cell_type": "markdown",
      "source": [
        "Two following tuples are given:\n",
        "\n",
        "\n",
        "\n",
        "dji1 = ('AAPL.US', 'IBM.US', 'MSFT.US')\n",
        "dji2 = ('HD.US', 'GS.US', 'NKE.US')\n",
        "\n",
        "\n",
        "Combine these tuples into one as shown below and print the result to the console.\n",
        "\n",
        "\n",
        "\n",
        "Expected result:\n",
        "\n",
        "\n",
        "\n",
        "('AAPL.US', 'IBM.US', 'MSFT.US', 'HD.US', 'GS.US', 'NKE.US')"
      ],
      "metadata": {
        "id": "BwDDMkd_yLXf"
      }
    },
    {
      "cell_type": "code",
      "source": [
        "dji1 = ('AAPL.US', 'IBM.US', 'MSFT.US')\n",
        "dji2 = ('HD.US', 'GS.US', 'NKE.US')\n",
        "\n",
        "dji3 = dji1 + dji2\n",
        "print(dji3)"
      ],
      "metadata": {
        "colab": {
          "base_uri": "https://localhost:8080/"
        },
        "id": "M1i4PmM-uGLS",
        "outputId": "f4296015-b5ae-4076-a125-ca25d5b2be4a"
      },
      "execution_count": 25,
      "outputs": [
        {
          "output_type": "stream",
          "name": "stdout",
          "text": [
            "('AAPL.US', 'IBM.US', 'MSFT.US', 'HD.US', 'GS.US', 'NKE.US')\n"
          ]
        }
      ]
    },
    {
      "cell_type": "markdown",
      "source": [
        "The following tuples are given:\n",
        "\n",
        "\n",
        "\n",
        "dji1 = ('AAPL.US', 'IBM.US', 'MSFT.US')\n",
        "dji2 = ('HD.US', 'GS.US', 'NKE.US')\n",
        "\n",
        "\n",
        "Nest these tuples into one tuple as shown below and print the result to the console.\n",
        "\n",
        "\n",
        "\n",
        "Expected result:\n",
        "\n",
        "\n",
        "\n",
        "(('AAPL.US', 'IBM.US', 'MSFT.US'), ('HD.US', 'GS.US', 'NKE.US'))"
      ],
      "metadata": {
        "id": "-QAQpcsvypeb"
      }
    },
    {
      "cell_type": "code",
      "source": [
        "dji1 = ('AAPL.US', 'IBM.US', 'MSFT.US')\n",
        "dji2 = ('HD.US', 'GS.US', 'NKE.US')\n",
        "\n",
        "dji3 = (dji1, dji2)\n",
        "print(dji3)"
      ],
      "metadata": {
        "colab": {
          "base_uri": "https://localhost:8080/"
        },
        "id": "P_JYa8GlyDeN",
        "outputId": "f87f77f7-566f-42b0-bb74-f136b21f84b8"
      },
      "execution_count": 26,
      "outputs": [
        {
          "output_type": "stream",
          "name": "stdout",
          "text": [
            "(('AAPL.US', 'IBM.US', 'MSFT.US'), ('HD.US', 'GS.US', 'NKE.US'))\n"
          ]
        }
      ]
    },
    {
      "cell_type": "markdown",
      "source": [
        "Tuples are immutable. The following tuple is given:\n",
        "\n",
        "\n",
        "\n",
        "members = (('Kate', 23), ('Tom', 19))\n",
        "\n",
        "\n",
        "Insert a tuple ('John', 26) between Kate and Tom as shown below. Print the result to the console.\n",
        "\n",
        "\n",
        "\n",
        "Tip: You have to create a new tuple.\n",
        "\n",
        "\n",
        "\n",
        "Expected result:\n",
        "\n",
        "\n",
        "\n",
        "(('Kate', 23), ('John', 26), ('Tom', 19))"
      ],
      "metadata": {
        "id": "FcAtXNjGyqdX"
      }
    },
    {
      "cell_type": "code",
      "source": [
        ""
      ],
      "metadata": {
        "id": "2MuwWKKLyDgw"
      },
      "execution_count": null,
      "outputs": []
    },
    {
      "cell_type": "code",
      "source": [
        "members = (('Kate', 23), ('Tom', 19))\n",
        "members = (members[0], ('John',26), members[1])\n",
        "print(members)\n"
      ],
      "metadata": {
        "colab": {
          "base_uri": "https://localhost:8080/"
        },
        "id": "MCaMZSWEyDjK",
        "outputId": "e7dc3f60-ab97-4d8f-d2ca-b86a682a2bde"
      },
      "execution_count": 27,
      "outputs": [
        {
          "output_type": "stream",
          "name": "stdout",
          "text": [
            "(('Kate', 23), ('John', 26), ('Tom', 19))\n"
          ]
        }
      ]
    },
    {
      "cell_type": "markdown",
      "source": [
        "The following tuple is given:\n",
        "\n",
        "\n",
        "\n",
        "default = ('YES', 'NO', 'NO', 'YES', 'NO')\n",
        "\n",
        "\n",
        "Using the appropriate method return the number of occurrences of the string 'YES' and print the result to the console as shown below.\n",
        "\n",
        "\n",
        "\n",
        "Expected result:\n",
        "\n",
        "\n",
        "\n",
        "Number of occurrences: 2"
      ],
      "metadata": {
        "id": "CNlkcldyzt5B"
      }
    },
    {
      "cell_type": "code",
      "source": [
        "default = ('YES', 'NO', 'NO', 'YES', 'NO')\n",
        "print(f\"Number of occurrences: {default.count('YES')}\")"
      ],
      "metadata": {
        "colab": {
          "base_uri": "https://localhost:8080/"
        },
        "id": "eB1G5xSwyDlT",
        "outputId": "aa91e044-3439-4d27-e447-3dfee33fc36a"
      },
      "execution_count": 35,
      "outputs": [
        {
          "output_type": "stream",
          "name": "stdout",
          "text": [
            "Number of occurrences: 2\n"
          ]
        }
      ]
    },
    {
      "cell_type": "markdown",
      "source": [
        "Sort the given tuple (from A to Z):\n",
        "\n",
        "\n",
        "\n",
        "names = ('Monica', 'Tom', 'John', 'Michael')\n",
        "\n",
        "\n",
        "Print the sorted tuple to the console as shown below.\n",
        "\n",
        "\n",
        "\n",
        "Expected result:\n",
        "\n",
        "\n",
        "\n",
        "('John', 'Michael', 'Monica', 'Tom')"
      ],
      "metadata": {
        "id": "_Rx3-Xuy0bgM"
      }
    },
    {
      "cell_type": "code",
      "source": [
        "names = ('Monica', 'Tom', 'John', 'Michael')\n",
        "sorted = tuple(sorted(names))\n",
        "print(sorted)"
      ],
      "metadata": {
        "colab": {
          "base_uri": "https://localhost:8080/"
        },
        "id": "E9MS8JNsyDn_",
        "outputId": "335c2ad9-c73a-4e50-bc2e-f3a93e3bbcdb"
      },
      "execution_count": 40,
      "outputs": [
        {
          "output_type": "stream",
          "name": "stdout",
          "text": [
            "('John', 'Michael', 'Monica', 'Tom')\n"
          ]
        }
      ]
    },
    {
      "cell_type": "markdown",
      "source": [
        "To the given list:\n",
        "\n",
        "\n",
        "\n",
        "cities = ['Los Angeles', 'New York', 'Chicago']\n",
        "\n",
        "\n",
        "append the city: 'Houston' and print the list to the console.\n",
        "\n",
        "\n",
        "\n",
        "Expected result:\n",
        "\n",
        "\n",
        "\n",
        "['Los Angeles', 'New York', 'Chicago', 'Houston']\n"
      ],
      "metadata": {
        "id": "iGEutBZE2CQ-"
      }
    },
    {
      "cell_type": "code",
      "source": [
        "cities = ['Los Angeles', 'New York', 'Chicago']\n",
        "cities.append('Houston')\n",
        "print(cities)"
      ],
      "metadata": {
        "colab": {
          "base_uri": "https://localhost:8080/"
        },
        "id": "EDJKMFhNyDuq",
        "outputId": "e74f0f27-c3bf-4456-81be-7cd8f65cff8d"
      },
      "execution_count": 49,
      "outputs": [
        {
          "output_type": "stream",
          "name": "stdout",
          "text": [
            "['Los Angeles', 'New York', 'Chicago', 'Houston']\n"
          ]
        }
      ]
    },
    {
      "cell_type": "markdown",
      "source": [
        "The following list is given:\n",
        "\n",
        "\n",
        "\n",
        "idx = ['001', '002', '001', '003', '001']\n",
        "\n",
        "\n",
        "Using the appropriate method count the occurrences of '001'. Print the result to the console as shown below.\n",
        "\n",
        "\n",
        "\n",
        "Expected result:\n",
        "\n",
        "\n",
        "\n",
        "Number of occurrences: 3\n"
      ],
      "metadata": {
        "id": "GzRAmoZV2Zs0"
      }
    },
    {
      "cell_type": "code",
      "source": [
        "idx = ['001', '002', '001', '003', '001']\n",
        "print(f\"Number of occurrences: {idx.count('001')}\")"
      ],
      "metadata": {
        "colab": {
          "base_uri": "https://localhost:8080/"
        },
        "id": "pSuzziDJ2bKT",
        "outputId": "ad7ed708-ea1c-416b-f460-a9932877398d"
      },
      "execution_count": 53,
      "outputs": [
        {
          "output_type": "stream",
          "name": "stdout",
          "text": [
            "Number of occurrences: 3\n"
          ]
        }
      ]
    },
    {
      "cell_type": "markdown",
      "source": [
        "The following text is given:\n",
        "\n",
        "\n",
        "\n",
        "text = 'Python programming'\n",
        "\n",
        "\n",
        "Standardize the text (replace uppercase letters with lowercase). Then create a list of unique characters in the text. Remove the space from this list and sort from a to z. After all print the list to the console.\n",
        "\n",
        "\n",
        "\n",
        "Tip: You can use a set to generate unique characters.\n",
        "\n",
        "\n",
        "\n",
        "Expected result:\n",
        "\n",
        "\n",
        "\n",
        "['a', 'g', 'h', 'i', 'm', 'n', 'o', 'p', 'r', 't', 'y']"
      ],
      "metadata": {
        "id": "772uxcj52yqg"
      }
    },
    {
      "cell_type": "code",
      "source": [
        "text = 'Python programming'\n",
        "text = text.lower()\n",
        "characters = list(set(text))\n",
        "characters.remove(' ')\n",
        "characters.sort()\n",
        "print(characters)\n"
      ],
      "metadata": {
        "colab": {
          "base_uri": "https://localhost:8080/"
        },
        "id": "lpDWIEWN2zSn",
        "outputId": "b3c20fea-a55c-48d1-a767-5c8ba95f8d20"
      },
      "execution_count": 56,
      "outputs": [
        {
          "output_type": "stream",
          "name": "stdout",
          "text": [
            "['a', 'g', 'h', 'i', 'm', 'n', 'o', 'p', 'r', 't', 'y']\n"
          ]
        }
      ]
    },
    {
      "cell_type": "markdown",
      "source": [
        "The following list is given:\n",
        "\n",
        "\n",
        "\n",
        "filenames = ['view.jpg', 'bear.jpg', 'ball.png']\n",
        "\n",
        "\n",
        "Add the file 'phone.jpg' to this list at the beginning. Then delete the file 'ball.png'. In response, print the filenames list to the console.\n",
        "\n",
        "\n",
        "\n",
        "Expected result:\n",
        "\n",
        "\n",
        "\n",
        "['phone.jpg', 'view.jpg', 'bear.jpg']"
      ],
      "metadata": {
        "id": "vvk4LlYXrdzG"
      }
    },
    {
      "cell_type": "code",
      "source": [
        "filenames = ['view.jpg', 'bear.jpg', 'ball.png']\n",
        "filenames.insert(0, 'phone.jpg')\n",
        "filenames.remove('ball.png')\n",
        "print(filenames)"
      ],
      "metadata": {
        "colab": {
          "base_uri": "https://localhost:8080/"
        },
        "id": "9LfhWtsYreU2",
        "outputId": "102c594a-a757-4309-e932-a4615f943ad1"
      },
      "execution_count": 2,
      "outputs": [
        {
          "output_type": "stream",
          "name": "stdout",
          "text": [
            "['phone.jpg', 'view.jpg', 'bear.jpg']\n"
          ]
        }
      ]
    },
    {
      "cell_type": "markdown",
      "source": [
        "The following list represents order ids for a given day:\n",
        "\n",
        "\n",
        "\n",
        "day1 = ['3984', '9042', '4829', '2380']\n",
        "\n",
        "\n",
        "Using the appropriate method, extend this list to the next day:\n",
        "\n",
        "\n",
        "\n",
        "day2 = ['4231', '5234', '1345', '2455']\n",
        "\n",
        "\n",
        "Print the result to the console.\n",
        "\n",
        "\n",
        "\n",
        "Expected result:\n",
        "\n",
        "\n",
        "\n",
        "['3984', '9042', '4829', '2380', '4231', '5234', '1345', '2455']"
      ],
      "metadata": {
        "id": "1Hdf1X9wsRvE"
      }
    },
    {
      "cell_type": "code",
      "source": [
        "day1 = ['3984', '9042', '4829', '2380']\n",
        "day2 = ['4231', '5234', '1345', '2455']\n",
        "day1.extend(day2)\n",
        "print(day1)"
      ],
      "metadata": {
        "colab": {
          "base_uri": "https://localhost:8080/"
        },
        "id": "-1jq1IqMsSRK",
        "outputId": "d3c69ed8-6b40-4089-c589-e11e36ebf95b"
      },
      "execution_count": 5,
      "outputs": [
        {
          "output_type": "stream",
          "name": "stdout",
          "text": [
            "['3984', '9042', '4829', '2380', '4231', '5234', '1345', '2455']\n"
          ]
        }
      ]
    },
    {
      "cell_type": "markdown",
      "source": [
        "The following tuple is given:\n",
        "\n",
        "\n",
        "\n",
        "techs = ('python', 'java', 'sql', 'aws')\n",
        "\n",
        "\n",
        "Sort this tuple from a to z and print it to the console.\n",
        "\n",
        "\n",
        "\n",
        "Tip: Tuples are immutable. You have to create a new one.\n",
        "\n",
        "\n",
        "\n",
        "Expected result:\n",
        "\n",
        "\n",
        "\n",
        "('aws', 'java', 'python', 'sql')"
      ],
      "metadata": {
        "id": "ZoXVCh5LsqqE"
      }
    },
    {
      "cell_type": "code",
      "source": [
        "techs = ('python', 'java', 'sql', 'aws')\n",
        "techssorted = tuple(sorted(techs))\n",
        "print(techssorted)"
      ],
      "metadata": {
        "colab": {
          "base_uri": "https://localhost:8080/"
        },
        "id": "RCCdHRlmsrHw",
        "outputId": "2480e026-d0d8-4177-c025-efd67e8b9993"
      },
      "execution_count": 6,
      "outputs": [
        {
          "output_type": "stream",
          "name": "stdout",
          "text": [
            "('aws', 'java', 'python', 'sql')\n"
          ]
        }
      ]
    },
    {
      "cell_type": "markdown",
      "source": [
        "The following list is given:\n",
        "\n",
        "\n",
        "\n",
        "hashtags = ['summer', 'time', 'vibes']\n",
        "\n",
        "\n",
        "Using the appropriate method, combine the elements of the list with the '#' character. Also add this sign to the beginning of the text and print the result to the console as shown below.\n",
        "\n",
        "\n",
        "\n",
        "Expected result:\n",
        "\n",
        "\n",
        "\n",
        "'#summer#time#vibes'"
      ],
      "metadata": {
        "id": "9kFOdO2ltP3D"
      }
    },
    {
      "cell_type": "code",
      "source": [
        "hashtags = ['summer', 'time', 'vibes']\n",
        "print('#', '#'.join(hashtags))"
      ],
      "metadata": {
        "colab": {
          "base_uri": "https://localhost:8080/"
        },
        "id": "9myW2r_WtQVa",
        "outputId": "c7325d73-d21a-49ee-ac18-30ba638c7144"
      },
      "execution_count": 9,
      "outputs": [
        {
          "output_type": "stream",
          "name": "stdout",
          "text": [
            "# summer#time#vibes\n"
          ]
        }
      ]
    },
    {
      "cell_type": "markdown",
      "source": [
        "Create a dictionary from the following pairs (key, value):\n",
        "\n",
        "\n",
        "\n",
        "'USA': 'Washington'\n",
        "'Germany': 'Berlin'\n",
        "'Austria': 'Vienna'\n",
        "\n",
        "\n",
        "and print it to the console.\n",
        "\n",
        "\n",
        "\n",
        "Expected result:\n",
        "\n",
        "\n",
        "\n",
        "{'USA': 'Washington', 'Germany': 'Berlin', 'Austria': 'Vienna'}"
      ],
      "metadata": {
        "id": "a4HP4_lstzOw"
      }
    },
    {
      "cell_type": "code",
      "source": [
        "capitals = {\n",
        "    'USA': 'Washington',\n",
        "    'Germany': 'Berlin',\n",
        "    'Austria': 'Vienna'\n",
        "    }\n",
        "print(capitals)"
      ],
      "metadata": {
        "colab": {
          "base_uri": "https://localhost:8080/"
        },
        "id": "CPAgBOrLtzwm",
        "outputId": "65bfc0a8-f267-4fb7-dacb-db0520a8b6c6"
      },
      "execution_count": 10,
      "outputs": [
        {
          "output_type": "stream",
          "name": "stdout",
          "text": [
            "{'USA': 'Washington', 'Germany': 'Berlin', 'Austria': 'Vienna'}\n"
          ]
        }
      ]
    },
    {
      "cell_type": "markdown",
      "source": [
        "The following dictionary is given:\n",
        "\n",
        "\n",
        "\n",
        "capitals = {\n",
        "    'USA': 'Washington',\n",
        "    'Germany': 'Berlin',\n",
        "    'Austria': 'Vienna'\n",
        "}\n",
        "\n",
        "\n",
        "Use the appropriate method to extract all keys from the capitals dictionary and print to the console.\n",
        "\n",
        "\n",
        "\n",
        "Expected result:\n",
        "\n",
        "\n",
        "\n",
        "dict_keys(['USA', 'Germany', 'Austria'])"
      ],
      "metadata": {
        "id": "F-BY-n5lt92E"
      }
    },
    {
      "cell_type": "code",
      "source": [
        "print(capitals.keys())"
      ],
      "metadata": {
        "colab": {
          "base_uri": "https://localhost:8080/"
        },
        "id": "l1UWizYxt-HJ",
        "outputId": "255f7685-8264-4666-da3b-43e65f32fa5a"
      },
      "execution_count": 13,
      "outputs": [
        {
          "output_type": "stream",
          "name": "stdout",
          "text": [
            "dict_keys(['USA', 'Germany', 'Austria'])\n"
          ]
        }
      ]
    }
  ]
}